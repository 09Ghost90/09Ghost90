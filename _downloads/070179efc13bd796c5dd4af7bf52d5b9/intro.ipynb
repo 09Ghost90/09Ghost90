{
  "cells": [
    {
      "cell_type": "code",
      "execution_count": 2,
      "metadata": {
        "colab": {
          "base_uri": "https://localhost:8080/"
        },
        "id": "KDH_fZkEzbFv",
        "outputId": "3d171279-5614-4f4e-9c69-b299da172e94"
      },
      "outputs": [
        {
          "output_type": "stream",
          "name": "stderr",
          "text": [
            "100%|██████████| 26.4M/26.4M [00:01<00:00, 15.4MB/s]\n",
            "100%|██████████| 29.5k/29.5k [00:00<00:00, 230kB/s]\n",
            "100%|██████████| 4.42M/4.42M [00:01<00:00, 4.27MB/s]\n",
            "100%|██████████| 5.15k/5.15k [00:00<00:00, 6.64MB/s]"
          ]
        },
        {
          "output_type": "stream",
          "name": "stdout",
          "text": [
            "Formato do X [N, C, H, W]: torch.Size([64, 1, 28, 28])\n",
            "Formato do Y: torch.Size([64]), dtype: torch.int64\n"
          ]
        },
        {
          "output_type": "stream",
          "name": "stderr",
          "text": [
            "\n"
          ]
        }
      ],
      "source": [
        "# For tips on running notebooks in Google Colab, see\n",
        "# https://pytorch.org/tutorials/beginner/colab\n",
        "%matplotlib inline\n",
        "\n",
        "import torch\n",
        "from torch import nn\n",
        "from torch.utils.data import DataLoader\n",
        "from torchvision import datasets\n",
        "from torchvision.transforms import ToTensor\n",
        "\n",
        "# Torch.utils.data.DataLoader\n",
        "# Torch.utils.data.Dataset.Dataset : Armazenada amostrar e seus rótulos correspondentes\n",
        "\n",
        "# Utilizar apenas o TorchVision para trabalhar no ramo de Vision\n",
        "# O Vision possui dados sobre a visão do mundo real : FashionMNIST\n",
        "\n",
        "# Baixar dados treinados de datasets livres\n",
        "training_data = datasets.FashionMNIST(\n",
        "    root=\"data\",\n",
        "    train=True,\n",
        "    download=True,\n",
        "    transform=ToTensor(),\n",
        ")\n",
        "\n",
        "# Baixar dados de teste de conjunto\n",
        "test_data = datasets.FashionMNIST(\n",
        "    root=\"data\",\n",
        "    train=False,\n",
        "    download=True,\n",
        "    transform=ToTensor(),\n",
        ")\n",
        "\n",
        "# Dataset(FashionMNIST) -> Argumento para DataLoader\n",
        "\n",
        "\"\"\"\n",
        "DataLoader:\n",
        "\n",
        "* Carrega os dados em lotes (batch);\n",
        "* Fazer amostragem aleatória ou sequencia dos dados;\n",
        "* Reembaralhar os dados entre as épocas;\n",
        "* Distribui o carramento entre múltiplos subprocessos;\n",
        "\n",
        "\"\"\"\n",
        "\n",
        "batch_size = 64 # Definimos que o modelo vai aprender com 64 exemplos por vez\n",
        "\n",
        "# Criamos dois DataLoaders: Um para Treino e outro para Teste\n",
        "train_dataloader = DataLoader(training_data, batch_size=batch_size)\n",
        "test_dataloader = DataLoader(test_data, batch_size=batch_size)\n",
        "\n",
        "# Iterar sobre o DataLoader como se fosse uma lista\n",
        "for X, y in test_dataloader:\n",
        "  print(f\"Formato do X [N, C, H, W]: {X.shape}\") #N=batch_size, C=Canais, H=altura, W=largura\n",
        "  print(f\"Formato do Y: {y.shape}, dtype: {y.dtype}\")\n",
        "  break\n",
        "\n",
        "# 64: Numero de imagens (batch)\n",
        "# 1: Numero de canais (1 = escala de cinza como imagens MNIST)\n",
        "# 28 x 28: Dimensão da imagem (altura x largura)\n",
        "\n",
        "# y.shape = [64]: há 64 rótulos (um para cada imagem)\n",
        "# dtype=int64: os rótulos são inteiros, pois preresentam classes (0 a 9)\n"
      ]
    },
    {
      "cell_type": "code",
      "source": [
        "# Criando o Modelo\n",
        "\n",
        "# Uma rede neural é definida como uma classe em Python que herda de TORCH.NN.MODULE\n",
        "# Esse modulo representa quantas camadas existem -> Como os dados fluemd e uma camada para outra e como são transformados\n",
        "\n",
        "# Verificando quais dispositivos estão disponíveis\n",
        "device = torch.accelerator.current_accelerator().type if torch.accelerator.is_available() else \"cpu\"\n",
        "print(f\"Usando {device} dispositivo\")\n",
        "\n",
        "# Definindo o modelo\n",
        "import torch.nn.functional as F\n",
        "\n",
        "# MLP - Multilayer Perceptron\n",
        "class RedeNeural(nn.Module):\n",
        "  def __init__(self):\n",
        "    super().__init__()\n",
        "    self.flatten = nn.Flatten()\n",
        "    self.linear_relu_stack = nn.Sequential(\n",
        "        nn.Linear(28*28, 512),\n",
        "        nn.ReLu(),\n",
        "        nn.Linear(512, 512),\n",
        "        nn.ReLu(),\n",
        "        nn.Linear(512, 10)\n",
        "    )\n",
        "\n",
        "def forward(self, x):\n",
        "  x = self.flatten(x)\n",
        "  logits = self.linear_relu_stack(x)\n",
        "  return logits\n",
        "\n",
        "model = RedeNeural().to(device)\n",
        "print(model)\n",
        "\n",
        "\"\"\"\n",
        "# Parâmetros treinávei;\n",
        "# Propagação direta (forward)\n",
        "# Backpropagation automática;\n",
        "# Salvamento e carregamento do modelo;\n",
        "\"\"\"\n",
        "\n",
        "\"\"\"\n",
        "nn.Module : Classe base para todos os modelos no PyTorch\n",
        "nn.Flatten() : Transforma imagens em vetores\n",
        "nn.Linear(a, b) : camada densa totalmente conectada de a para b neurônios\n",
        "nn.ReLu() : Função de ativação (max(0,x))\n",
        "forward(x) : Define como os dados fluem pela rede\n",
        "logits : Saída bruta antes da função de ativação final (ex: softmax)\n",
        "model = NeuralNetwork() : Instancia o modelo\n",
        "\"\"\"\n",
        "\n",
        "\"\"\"\n",
        "flatten pega os 28x28 faz virar um vetor de [784 números]\n",
        "E cada um dos 512 neurônios recebe o 784 números como entrada\n",
        "Output = soma(entrada[i] * peso[i] + viés)\n",
        "\n",
        "ReLu: Liga ou Desliga neuronios: Caso apresnete valor negativo, zera, se for positivo\n",
        "mantém. Isso traz NÃO LINEARIDADE importenta para a rede aprender padrões complexos\n",
        "\n",
        "[28x28 imagem]\n",
        "   ↓ flatten\n",
        "[784] vetor\n",
        "   ↓ Linear(784→512)\n",
        "[512]\n",
        "   ↓ ReLU\n",
        "[512]\n",
        "   ↓ Linear(512→512)\n",
        "[512]\n",
        "   ↓ ReLU\n",
        "[512]\n",
        "   ↓ Linear(512→10)\n",
        "[10] logits (valores brutos de classificação)\n",
        "\n",
        "\"\"\"\n",
        "\n",
        "\n",
        "\n"
      ],
      "metadata": {
        "id": "L2WOt8496-13"
      },
      "execution_count": null,
      "outputs": []
    }
  ],
  "metadata": {
    "kernelspec": {
      "display_name": "Python 3",
      "language": "python",
      "name": "python3"
    },
    "language_info": {
      "codemirror_mode": {
        "name": "ipython",
        "version": 3
      },
      "file_extension": ".py",
      "mimetype": "text/x-python",
      "name": "python",
      "nbconvert_exporter": "python",
      "pygments_lexer": "ipython3",
      "version": "3.10.12"
    },
    "colab": {
      "provenance": []
    }
  },
  "nbformat": 4,
  "nbformat_minor": 0
}